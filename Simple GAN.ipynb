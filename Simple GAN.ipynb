{
 "cells": [
  {
   "cell_type": "code",
   "execution_count": null,
   "metadata": {},
   "outputs": [],
   "source": [
    "import os\n",
    "import numpy as np\n",
    "import matplotlib.pyplot as plt\n",
    "import torch\n",
    "import torch.nn as nn\n",
    "from torchvision import datasets, transforms\n",
    "from torch.autograd import Variable\n",
    "from torchvision.utils import save_image\n",
    "import imageio"
   ]
  },
  {
   "cell_type": "code",
   "execution_count": null,
   "metadata": {},
   "outputs": [],
   "source": [
    "# Set up device\n",
    "device = torch.device(\"cuda\" if torch.cuda.is_available() else \"cpu\")"
   ]
  },
  {
   "cell_type": "code",
   "execution_count": null,
   "metadata": {},
   "outputs": [],
   "source": [
    "# Define hyperparameters\n",
    "latent_dim = 100\n",
    "img_size = 64\n",
    "channels = 3  # Assuming RGB images\n",
    "output_dir = 'Car_GAN'\n",
    "epochs = 50\n",
    "batch_size = 64\n",
    "learning_rate = 0.0002"
   ]
  },
  {
   "cell_type": "code",
   "execution_count": null,
   "metadata": {},
   "outputs": [],
   "source": [
    "# Define image shape\n",
    "img_shape = (channels, img_size, img_size)"
   ]
  },
  {
   "cell_type": "code",
   "execution_count": null,
   "metadata": {},
   "outputs": [],
   "source": [
    "# Define Generator model\n",
    "class Generator(nn.Module):\n",
    "    def __init__(self, latent_dim, img_shape):\n",
    "        super(Generator, self).__init__()\n",
    "        self.model = nn.Sequential(\n",
    "            nn.Linear(latent_dim, 256),\n",
    "            nn.BatchNorm1d(256),\n",
    "            nn.ReLU(),\n",
    "            nn.Linear(256, 512),\n",
    "            nn.BatchNorm1d(512),\n",
    "            nn.ReLU(),\n",
    "            nn.Linear(512, 1024),\n",
    "            nn.BatchNorm1d(1024),\n",
    "            nn.ReLU(),\n",
    "            nn.Linear(1024, int(np.prod(img_shape))),\n",
    "            nn.Tanh()\n",
    "        )\n",
    "\n",
    "    def forward(self, z):\n",
    "        img = self.model(z)\n",
    "        return img.view(img.size(0), *img_shape)"
   ]
  },
  {
   "cell_type": "code",
   "execution_count": null,
   "metadata": {},
   "outputs": [],
   "source": [
    "# Define Discriminator model\n",
    "class Discriminator(nn.Module):\n",
    "    def __init__(self, img_shape):\n",
    "        super(Discriminator, self).__init__()\n",
    "        self.model = nn.Sequential(\n",
    "            nn.Linear(int(np.prod(img_shape)), 512),\n",
    "            nn.LeakyReLU(0.2),\n",
    "            nn.Linear(512, 256),\n",
    "            nn.LeakyReLU(0.2),\n",
    "            nn.Linear(256, 1),\n",
    "            nn.Sigmoid()\n",
    "        )\n",
    "\n",
    "    def forward(self, img):\n",
    "        img_flat = img.view(img.size(0), -1)\n",
    "        verdict = self.model(img_flat)\n",
    "        return verdict"
   ]
  },
  {
   "cell_type": "code",
   "execution_count": null,
   "metadata": {},
   "outputs": [],
   "source": [
    "def train(generator, discriminator, optimizer_generator, optimizer_discriminator, data_loader, device, latent_dim, img_shape, epochs, output_dir):\n",
    "    adversarial_loss = nn.BCELoss()\n",
    "    losses = []\n",
    "    images_for_gif = []\n",
    "    Tensor = torch.FloatTensor\n",
    "\n",
    "    for epoch in range(1, epochs+1):\n",
    "        for i, (images, _) in enumerate(data_loader):\n",
    "            real_images = images.to(device)\n",
    "            real_output = Variable(Tensor(images.size(0), 1).fill_(1.0), requires_grad=False)\n",
    "            fake_output = Variable(Tensor(images.size(0), 1).fill_(0.0), requires_grad=False)\n",
    "\n",
    "            optimizer_generator.zero_grad()\n",
    "            z = Variable(Tensor(np.random.normal(0, 1, (images.shape[0], latent_dim))).to(device))\n",
    "            generated_images = generator(z)\n",
    "            generator_loss = adversarial_loss(discriminator(generated_images), real_output)\n",
    "            generator_loss.backward()\n",
    "            optimizer_generator.step()\n",
    "\n",
    "            optimizer_discriminator.zero_grad()\n",
    "            discriminator_loss_real = adversarial_loss(discriminator(real_images), real_output)\n",
    "            discriminator_loss_fake = adversarial_loss(discriminator(generated_images.detach()), fake_output)\n",
    "            discriminator_loss = (discriminator_loss_real + discriminator_loss_fake) / 2\n",
    "            discriminator_loss.backward()\n",
    "            optimizer_discriminator.step()\n",
    "\n",
    "            print(f\"[Epoch {epoch:=4d}/{epochs}] [Batch {i+1:=4d}/{len(data_loader)}] ---> \"\n",
    "                  f\"[D Loss: {discriminator_loss.item():.6f}] [G Loss: {generator_loss.item():.6f}]\")\n",
    "\n",
    "        losses.append((generator_loss.item(), discriminator_loss.item()))\n",
    "        image_filename = f'{output_dir}/images/{epoch}.png'\n",
    "        save_image(generated_images.data[:1], image_filename, normalize=True)\n",
    "        images_for_gif.append(imageio.imread(image_filename))\n",
    "\n",
    "    # Visualizing the losses at every epoch\n",
    "    losses = np.array(losses)\n",
    "    plt.plot(losses.T[0], label='Generator')\n",
    "    plt.plot(losses.T[1], label='Discriminator')\n",
    "    plt.title(\"Training Losses\")\n",
    "    plt.xlabel(\"Epoch\")\n",
    "    plt.ylabel(\"Loss\")\n",
    "    plt.legend()\n",
    "    plt.savefig(f'{output_dir}/loss_plot.png')\n",
    "\n",
    "    # Creating a gif of generated images at every epoch\n",
    "    imageio.mimwrite(f'{output_dir}/generated_images.gif', images_for_gif, fps=len(images)/5)"
   ]
  },
  {
   "cell_type": "code",
   "execution_count": null,
   "metadata": {},
   "outputs": [],
   "source": [
    "# Initialize generator and discriminator models\n",
    "generator = Generator(latent_dim, (channels, img_size, img_size)).to(device)\n",
    "discriminator = Discriminator((channels, img_size, img_size)).to(device)"
   ]
  },
  {
   "cell_type": "code",
   "execution_count": null,
   "metadata": {},
   "outputs": [],
   "source": [
    "# Initialize optimizers\n",
    "optimizer_generator = torch.optim.Adam(generator.parameters(), lr=learning_rate, betas=(0.5, 0.999))\n",
    "optimizer_discriminator = torch.optim.Adam(discriminator.parameters(), lr=learning_rate, betas=(0.5, 0.999))"
   ]
  },
  {
   "cell_type": "code",
   "execution_count": null,
   "metadata": {},
   "outputs": [],
   "source": [
    "# Load dataset\n",
    "data_transform = transforms.Compose([\n",
    "    transforms.Resize((img_size, img_size)),\n",
    "    transforms.ToTensor(),\n",
    "    transforms.Normalize((0.5, 0.5, 0.5), (0.5, 0.5, 0.5))\n",
    "])\n",
    "dataset = datasets.ImageFolder(root=\"Car\", transform=data_transform)  # Adjust the path\n",
    "data_loader = torch.utils.data.DataLoader(dataset, batch_size=batch_size, shuffle=True, num_workers=4)"
   ]
  },
  {
   "cell_type": "code",
   "execution_count": null,
   "metadata": {},
   "outputs": [],
   "source": [
    "# Create output directory if it doesn't exist\n",
    "os.makedirs(f'{output_dir}/images', exist_ok=True)"
   ]
  },
  {
   "cell_type": "code",
   "execution_count": null,
   "metadata": {},
   "outputs": [],
   "source": [
    "# Train GAN\n",
    "train(generator, discriminator, optimizer_generator, optimizer_discriminator, data_loader, device, latent_dim, img_shape, epochs, output_dir)"
   ]
  }
 ],
 "metadata": {
  "language_info": {
   "name": "python"
  }
 },
 "nbformat": 4,
 "nbformat_minor": 2
}
